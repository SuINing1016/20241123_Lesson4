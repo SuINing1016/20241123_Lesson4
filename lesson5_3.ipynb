{
 "cells": [
  {
   "cell_type": "code",
   "execution_count": 2,
   "metadata": {},
   "outputs": [
    {
     "name": "stdout",
     "output_type": "stream",
     "text": [
      "Banana\n",
      "10\n",
      "=================\n",
      "apple\n",
      "20\n",
      "=================\n",
      "Cherry\n",
      "30\n",
      "=================\n"
     ]
    }
   ],
   "source": [
    "class Item:\n",
    "    def __init__(self,name,price):\n",
    "        self.name=name\n",
    "        self.price=price\n",
    "items=[Item('apple',20),\n",
    "      Item('Banana',10),\n",
    "      Item('Cherry',30)]\n",
    "def abc(x:Item)->int:\n",
    "    return x.price\n",
    "newItems= sorted(items,key=abc)\n",
    "for item in newItems:\n",
    "    print(item.name)\n",
    "    print(item.price)\n",
    "    print('=================')"
   ]
  },
  {
   "cell_type": "code",
   "execution_count": null,
   "metadata": {},
   "outputs": [
    {
     "name": "stdout",
     "output_type": "stream",
     "text": [
      "Banana\n",
      "10\n",
      "=================\n",
      "apple\n",
      "20\n",
      "=================\n",
      "Cherry\n",
      "30\n",
      "=================\n"
     ]
    }
   ],
   "source": [
    "#當def 只有一行並且會傳出值，可以使用匿名function例如:lambda X:X.price\n",
    "class Item:\n",
    "    def __init__(self,name,price):\n",
    "        self.name=name\n",
    "        self.price=price\n",
    "items:list[Item]=[Item('apple',20),\n",
    "      Item('Banana',10),\n",
    "      Item('Cherry',30)]\n",
    "newItems= sorted(items,key=lambda x:x.price)\n",
    "for item in newItems:\n",
    "    print(item.name)\n",
    "    print(item.price)\n",
    "    print('=================')"
   ]
  },
  {
   "cell_type": "markdown",
   "metadata": {},
   "source": [
    "# dict(dictionary) 一組資料 可以用{}\n",
    "如果只是儲存資料，沒有執行方法或功能。可以不用使用class可以改用dict."
   ]
  },
  {
   "cell_type": "code",
   "execution_count": null,
   "metadata": {},
   "outputs": [],
   "source": [
    "items:list[dict] = [\n",
    "    {'name':'apple','price':20},\n",
    "    {'name':'banana','price':10},\n",
    "    {'name':'Cherry','price':30}\n",
    "]"
   ]
  },
  {
   "cell_type": "code",
   "execution_count": 2,
   "metadata": {},
   "outputs": [
    {
     "data": {
      "text/plain": [
       "('apple', 20)"
      ]
     },
     "execution_count": 2,
     "metadata": {},
     "output_type": "execute_result"
    }
   ],
   "source": [
    "item:dict= {'name':'apple',\n",
    "            'price':20}\n",
    "item['name'],item['price']"
   ]
  }
 ],
 "metadata": {
  "kernelspec": {
   "display_name": "base",
   "language": "python",
   "name": "python3"
  },
  "language_info": {
   "codemirror_mode": {
    "name": "ipython",
    "version": 3
   },
   "file_extension": ".py",
   "mimetype": "text/x-python",
   "name": "python",
   "nbconvert_exporter": "python",
   "pygments_lexer": "ipython3",
   "version": "3.12.2"
  }
 },
 "nbformat": 4,
 "nbformat_minor": 2
}
