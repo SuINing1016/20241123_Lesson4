{
 "cells": [
  {
   "cell_type": "code",
   "execution_count": null,
   "metadata": {},
   "outputs": [],
   "source": [
    "class Person(object):\n",
    "    def __init__(self,name:str,age:int):\n",
    "        self.name=name#attribute\n",
    "        self.age=age#attribute\n",
    "    #實體方法（instance method)\n",
    "    def echo(self):\n",
    "        print(f'我的名字是：{self.name}')\n",
    "        print(f'我的年齡是：{self.age}')"
   ]
  },
  {
   "cell_type": "code",
   "execution_count": 26,
   "metadata": {},
   "outputs": [
    {
     "name": "stdout",
     "output_type": "stream",
     "text": [
      "我的名字是：蘇苡寧\n",
      "我的年齡是：40\n"
     ]
    }
   ],
   "source": [
    "p1 =Person('蘇苡寧',age=40)\n",
    "p1.echo()"
   ]
  },
  {
   "cell_type": "code",
   "execution_count": 28,
   "metadata": {},
   "outputs": [
    {
     "name": "stdout",
     "output_type": "stream",
     "text": [
      "我的名字是：莎莎\n",
      "我的年齡是：24\n"
     ]
    }
   ],
   "source": [
    "p2 =Person('莎莎',age=24)\n",
    "p2.echo()"
   ]
  }
 ],
 "metadata": {
  "kernelspec": {
   "display_name": "base",
   "language": "python",
   "name": "python3"
  },
  "language_info": {
   "codemirror_mode": {
    "name": "ipython",
    "version": 3
   },
   "file_extension": ".py",
   "mimetype": "text/x-python",
   "name": "python",
   "nbconvert_exporter": "python",
   "pygments_lexer": "ipython3",
   "version": "3.12.2"
  }
 },
 "nbformat": 4,
 "nbformat_minor": 2
}
