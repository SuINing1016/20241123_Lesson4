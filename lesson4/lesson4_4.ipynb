{
 "cells": [
  {
   "cell_type": "code",
   "execution_count": 1,
   "metadata": {},
   "outputs": [],
   "source": [
    "class Person(object):\n",
    "    def __init__(self,name:str,age:int):\n",
    "        self.name=name#attribute\n",
    "        self.age=age#attribute\n",
    "    #實體方法（instance method)\n",
    "    def echo(self):\n",
    "        print(f'我的名字是：{self.name}')\n",
    "        print(f'我的年齡是：{self.age}')"
   ]
  },
  {
   "cell_type": "code",
   "execution_count": 28,
   "metadata": {},
   "outputs": [],
   "source": [
    "class Student(Person):\n",
    "    def __init__(self,name:str,age:int,score:int):\n",
    "        super().__init__(name=name,age=age)\n",
    "        self.__score =score\n",
    "    @property\n",
    "    def score(self)->int:\n",
    "        return self.__score\n",
    "    def echo(self):\n",
    "        super().echo()\n",
    "        print(f'我的分數是：{self.score}')"
   ]
  },
  {
   "cell_type": "code",
   "execution_count": 31,
   "metadata": {},
   "outputs": [
    {
     "name": "stdout",
     "output_type": "stream",
     "text": [
      "我的名字是：蘇苡寧\n",
      "我的年齡是：40\n",
      "我的分數是：245\n"
     ]
    }
   ],
   "source": [
    "s1:Student=Student('蘇苡寧',40,245)\n",
    "s1.score\n",
    "s1.echo()"
   ]
  },
  {
   "cell_type": "code",
   "execution_count": 32,
   "metadata": {},
   "outputs": [
    {
     "name": "stdout",
     "output_type": "stream",
     "text": [
      "我的名字是：莎莎\n",
      "我的年齡是：24\n",
      "我的分數是：300\n"
     ]
    }
   ],
   "source": [
    "s2:Student=Student('莎莎',24,300)\n",
    "s2.echo()"
   ]
  },
  {
   "cell_type": "code",
   "execution_count": 33,
   "metadata": {},
   "outputs": [
    {
     "name": "stdout",
     "output_type": "stream",
     "text": [
      "我的名字是：蘇苡寧\n",
      "我的年齡是：40\n",
      "我的分數是：245\n"
     ]
    }
   ],
   "source": [
    "s1:Student=Student('蘇苡寧',40,245)\n",
    "score=300\n",
    "s1.echo()"
   ]
  }
 ],
 "metadata": {
  "kernelspec": {
   "display_name": "base",
   "language": "python",
   "name": "python3"
  },
  "language_info": {
   "codemirror_mode": {
    "name": "ipython",
    "version": 3
   },
   "file_extension": ".py",
   "mimetype": "text/x-python",
   "name": "python",
   "nbconvert_exporter": "python",
   "pygments_lexer": "ipython3",
   "version": "3.12.2"
  }
 },
 "nbformat": 4,
 "nbformat_minor": 2
}
