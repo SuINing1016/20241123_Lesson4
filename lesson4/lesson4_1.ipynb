{
 "cells": [
  {
   "cell_type": "code",
   "execution_count": 1,
   "metadata": {},
   "outputs": [
    {
     "data": {
      "text/plain": [
       "0"
      ]
     },
     "execution_count": 1,
     "metadata": {},
     "output_type": "execute_result"
    }
   ],
   "source": [
    "import math\n",
    "math.comb(5,12)"
   ]
  },
  {
   "cell_type": "markdown",
   "metadata": {},
   "source": [
    "/->表示前面全部要用引數值的呼叫"
   ]
  },
  {
   "cell_type": "code",
   "execution_count": 2,
   "metadata": {},
   "outputs": [
    {
     "ename": "TypeError",
     "evalue": "math.comb() takes no keyword arguments",
     "output_type": "error",
     "traceback": [
      "\u001b[0;31m---------------------------------------------------------------------------\u001b[0m",
      "\u001b[0;31mTypeError\u001b[0m                                 Traceback (most recent call last)",
      "Cell \u001b[0;32mIn[2], line 1\u001b[0m\n\u001b[0;32m----> 1\u001b[0m \u001b[43mmath\u001b[49m\u001b[38;5;241;43m.\u001b[39;49m\u001b[43mcomb\u001b[49m\u001b[43m(\u001b[49m\u001b[43mn\u001b[49m\u001b[38;5;241;43m=\u001b[39;49m\u001b[38;5;241;43m5\u001b[39;49m\u001b[43m,\u001b[49m\u001b[43mk\u001b[49m\u001b[38;5;241;43m=\u001b[39;49m\u001b[38;5;241;43m1\u001b[39;49m\u001b[43m)\u001b[49m\n",
      "\u001b[0;31mTypeError\u001b[0m: math.comb() takes no keyword arguments"
     ]
    }
   ],
   "source": [
    "math.comb(n=5,k=1)"
   ]
  },
  {
   "cell_type": "code",
   "execution_count": null,
   "metadata": {},
   "outputs": [],
   "source": [
    "def get_status(bmi:float)->str:\n",
    "    '''\n",
    "    docstring\n",
    "    parameter:\n",
    "       bmi:bmi值可以整數或浮點數\n",
    "     Return:str\n",
    "       會傳出5個狀態\n",
    "       -正常範圍\n",
    "       -過重\n",
    "       -輕度肥胖\n",
    "       -中度肥胖\n",
    "       -過輕\n",
    "    '''\n"
   ]
  },
  {
   "cell_type": "code",
   "execution_count": null,
   "metadata": {},
   "outputs": [],
   "source": [
    "# 20241116 homework BMI計算\n",
    "def get_status(bmi:float)->str:\n",
    "    '''\n",
    "    docstring\n",
    "    Parameter:\n",
    "        bmi:bmi值可以整數或浮點數\n",
    "    Return:str\n",
    "        會傳出5個狀態\n",
    "        - 正常範圍\n",
    "        - 過重 \n",
    "        - 輕度肥胖      \n",
    "    '''\n",
    "    if bmi >= 35 :\n",
    "        bmi_str = '重度肥胖'\n",
    "    elif bmi >= 30 :\n",
    "        bmi_str = '中度肥胖'\n",
    "    elif bmi >= 27 :\n",
    "        bmi_str = '輕度肥胖'\n",
    "    elif bmi >= 24 :\n",
    "        bmi_str = '過重'\n",
    "    elif bmi >= 18.5 :\n",
    "        bmi_str = '正常範圍'\n",
    "    else :\n",
    "        bmi_str = '過輕' \n",
    "    return bmi_str\n",
    "    \n",
    "def BMI_math(height_cm:float, weight_kg:float)->tuple[float,str]:\n",
    "    height_m = round(height_cm/100, 2)\n",
    "    bmi_kg_m2 = round(weight_kg/(height_m**2), 2)\n",
    "    bmi_str = get_status(bmi_kg_m2)\n",
    "    return bmi_kg_m2, bmi_str\n",
    "\n",
    "while(True):\n",
    "    try:\n",
    "        height_cm = float(input(\"請輸入身高(公分):\"))\n",
    "        weight_kg = float(input(\"請輸入體重(公斤):\"))\n",
    "        bmi_value, bmi_str = BMI_math(height_cm, weight_kg)\n",
    "        break\n",
    "    except Exception:\n",
    "        print('輸入格式錯誤,請重新輸入!')\n",
    "    \n",
    "print(f\"您的BMI值是{bmi_value}\\n您的體重{bmi_str}\")\n",
    "print(\"程式結束\")"
   ]
  }
 ],
 "metadata": {
  "kernelspec": {
   "display_name": "base",
   "language": "python",
   "name": "python3"
  },
  "language_info": {
   "codemirror_mode": {
    "name": "ipython",
    "version": 3
   },
   "file_extension": ".py",
   "mimetype": "text/x-python",
   "name": "python",
   "nbconvert_exporter": "python",
   "pygments_lexer": "ipython3",
   "version": "3.12.2"
  }
 },
 "nbformat": 4,
 "nbformat_minor": 2
}
