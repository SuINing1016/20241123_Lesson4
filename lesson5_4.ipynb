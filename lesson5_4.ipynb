{
 "cells": [
  {
   "cell_type": "code",
   "execution_count": 1,
   "metadata": {},
   "outputs": [
    {
     "data": {
      "text/plain": [
       "[{'name': 'banana', 'price': 10},\n",
       " {'name': 'apple', 'price': 20},\n",
       " {'name': 'Cherry', 'price': 30}]"
      ]
     },
     "execution_count": 1,
     "metadata": {},
     "output_type": "execute_result"
    }
   ],
   "source": [
    "items:list[dict] = [\n",
    "    {'name':'apple','price':20},\n",
    "    {'name':'banana','price':10},\n",
    "    {'name':'Cherry','price':30}\n",
    "]\n",
    "sorted(items,key=lambda x:x['price'])"
   ]
  },
  {
   "cell_type": "code",
   "execution_count": 2,
   "metadata": {},
   "outputs": [
    {
     "data": {
      "text/plain": [
       "[{'name': 'Cherry', 'price': 30},\n",
       " {'name': 'apple', 'price': 20},\n",
       " {'name': 'banana', 'price': 10}]"
      ]
     },
     "execution_count": 2,
     "metadata": {},
     "output_type": "execute_result"
    }
   ],
   "source": [
    "items:list[dict] = [\n",
    "    {'name':'apple','price':20},\n",
    "    {'name':'banana','price':10},\n",
    "    {'name':'Cherry','price':30}\n",
    "]\n",
    "sorted(items,key=lambda x:x['price'],reverse=True)"
   ]
  },
  {
   "cell_type": "code",
   "execution_count": 5,
   "metadata": {},
   "outputs": [
    {
     "data": {
      "text/plain": [
       "('robert', 35, 180, 80)"
      ]
     },
     "execution_count": 5,
     "metadata": {},
     "output_type": "execute_result"
    }
   ],
   "source": [
    "(name,age,height,weight)=('robert',35,180,80)  #這個是tuple,也可以不用寫()\n",
    "name,age,height,weight"
   ]
  },
  {
   "cell_type": "code",
   "execution_count": 10,
   "metadata": {},
   "outputs": [
    {
     "name": "stdout",
     "output_type": "stream",
     "text": [
      "name\n",
      "price\n"
     ]
    }
   ],
   "source": [
    "#{'name':'apple','price':20} #這是dict為映射資料 可以進for in迴圈\n",
    "for key in {'name':'apple','price':20}.keys():\n",
    "    print(key)"
   ]
  },
  {
   "cell_type": "code",
   "execution_count": 11,
   "metadata": {},
   "outputs": [
    {
     "name": "stdout",
     "output_type": "stream",
     "text": [
      "apple\n",
      "20\n"
     ]
    }
   ],
   "source": [
    "for value in {'name':'apple','price':20}.values():\n",
    "    print(value)"
   ]
  },
  {
   "cell_type": "code",
   "execution_count": 12,
   "metadata": {},
   "outputs": [
    {
     "name": "stdout",
     "output_type": "stream",
     "text": [
      "('name', 'apple')\n",
      "('price', 20)\n"
     ]
    }
   ],
   "source": [
    "for item in {'name':'apple','price':20}.items():\n",
    "    print(item)"
   ]
  },
  {
   "cell_type": "code",
   "execution_count": 13,
   "metadata": {},
   "outputs": [
    {
     "name": "stdout",
     "output_type": "stream",
     "text": [
      "name\n",
      "apple\n",
      "=============\n",
      "price\n",
      "20\n",
      "=============\n"
     ]
    }
   ],
   "source": [
    "for key,value in {'name':'apple','price':20}.items():\n",
    "    print(key)\n",
    "    print(value)\n",
    "    print('=============')"
   ]
  }
 ],
 "metadata": {
  "kernelspec": {
   "display_name": "base",
   "language": "python",
   "name": "python3"
  },
  "language_info": {
   "codemirror_mode": {
    "name": "ipython",
    "version": 3
   },
   "file_extension": ".py",
   "mimetype": "text/x-python",
   "name": "python",
   "nbconvert_exporter": "python",
   "pygments_lexer": "ipython3",
   "version": "3.12.2"
  }
 },
 "nbformat": 4,
 "nbformat_minor": 2
}
